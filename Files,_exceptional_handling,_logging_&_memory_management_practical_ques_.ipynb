{
  "nbformat": 4,
  "nbformat_minor": 0,
  "metadata": {
    "colab": {
      "provenance": []
    },
    "kernelspec": {
      "name": "python3",
      "display_name": "Python 3"
    },
    "language_info": {
      "name": "python"
    }
  },
  "cells": [
    {
      "cell_type": "code",
      "execution_count": 1,
      "metadata": {
        "id": "c5k8NQvWB0Dx"
      },
      "outputs": [],
      "source": [
        "########Files, exceptional handling, logging and memory management assignment Practical Questions#########\n",
        "\n"
      ]
    },
    {
      "cell_type": "code",
      "source": [],
      "metadata": {
        "id": "2RjC8GeiHnsM"
      },
      "execution_count": null,
      "outputs": []
    },
    {
      "cell_type": "markdown",
      "source": [
        "1. How can you open a file for writing in Python and write a string to it?"
      ],
      "metadata": {
        "id": "-4C8SKCTCF-t"
      }
    },
    {
      "cell_type": "code",
      "source": [
        "def write_string_to_file(filename, text):\n",
        "  \"\"\"Opens a file in write mode and writes a string to it.\n",
        "\n",
        "  Args:\n",
        "    filename: The name of the file to write to.\n",
        "    text: The string to write to the file.\n",
        "  \"\"\"\n",
        "  try:\n",
        "    with open(filename, 'w') as file:\n",
        "      file.write(text)\n",
        "    print(f\"Successfully wrote to '{filename}'\")\n",
        "  except Exception as e:\n",
        "    print(f\"An error occurred: {e}\")\n",
        "\n",
        "# Example usage\n",
        "write_string_to_file(\"my_file.txt\", \"This is a string to be written to the file.\")\n"
      ],
      "metadata": {
        "colab": {
          "base_uri": "https://localhost:8080/"
        },
        "id": "lZvDDD5KCTNM",
        "outputId": "719da8c1-fcf8-41a6-8e48-d4e8d632eee0"
      },
      "execution_count": 4,
      "outputs": [
        {
          "output_type": "stream",
          "name": "stdout",
          "text": [
            "Successfully wrote to 'my_file.txt'\n"
          ]
        }
      ]
    },
    {
      "cell_type": "markdown",
      "source": [
        "2. Write a Python program to read the contents of a file and print each line."
      ],
      "metadata": {
        "id": "1rPhaKJeCYKg"
      }
    },
    {
      "cell_type": "code",
      "source": [
        "def read_and_print_file(filename):\n",
        "  \"\"\"Reads the contents of a file and prints each line.\n",
        "\n",
        "  Args:\n",
        "    filename: The name of the file to read.\n",
        "  \"\"\"\n",
        "  try:\n",
        "    with open(filename, 'r') as file:\n",
        "      for line in file:\n",
        "        print(line, end='')  # end='' prevents double newlines\n",
        "  except FileNotFoundError:\n",
        "    print(f\"Error: File '{filename}' not found.\")\n",
        "  except Exception as e:\n",
        "    print(f\"An error occurred: {e}\")\n",
        "\n",
        "# Example Usage, assuming you have a file named \"my_file.txt\"\n",
        "read_and_print_file(\"my_file.txt\")\n"
      ],
      "metadata": {
        "colab": {
          "base_uri": "https://localhost:8080/"
        },
        "id": "zqsIHrfKCbsf",
        "outputId": "bce281d5-aa09-44c9-f154-612c3f671ad5"
      },
      "execution_count": 5,
      "outputs": [
        {
          "output_type": "stream",
          "name": "stdout",
          "text": [
            "This is a string to be written to the file."
          ]
        }
      ]
    },
    {
      "cell_type": "markdown",
      "source": [
        "3. How would you handle a case where the file doesn't exist while trying to open it for reading?"
      ],
      "metadata": {
        "id": "Gz8G0kFYCuAH"
      }
    },
    {
      "cell_type": "code",
      "source": [
        "def read_and_print_file_safe(filename):\n",
        "  \"\"\"Reads the contents of a file and prints each line, handling file not found.\n",
        "\n",
        "  Args:\n",
        "    filename: The name of the file to read.\n",
        "  \"\"\"\n",
        "  try:\n",
        "    with open(filename, 'r') as file:\n",
        "      for line in file:\n",
        "        print(line, end='')  # end='' prevents double newlines\n",
        "  except FileNotFoundError:\n",
        "    print(f\"Error: File '{filename}' not found.\")\n",
        "  except Exception as e:\n",
        "    print(f\"An error occurred: {e}\")\n",
        "\n",
        "# Example Usage:\n",
        "# Test with a file that exists\n",
        "with open(\"exists.txt\", \"w\") as f:\n",
        "    f.write(\"This file exists\")\n",
        "read_and_print_file_safe(\"exists.txt\")\n",
        "\n",
        "# Test with a file that does not exist\n",
        "read_and_print_file_safe(\"non_existent_file.txt\")\n"
      ],
      "metadata": {
        "colab": {
          "base_uri": "https://localhost:8080/"
        },
        "id": "5xkwoc-uDDIQ",
        "outputId": "bef6043a-d663-4881-f6d8-b8e0f3e43866"
      },
      "execution_count": 7,
      "outputs": [
        {
          "output_type": "stream",
          "name": "stdout",
          "text": [
            "This file existsError: File 'non_existent_file.txt' not found.\n"
          ]
        }
      ]
    },
    {
      "cell_type": "markdown",
      "source": [
        "4. Write a Python script that reads from one file and writes its content to another file."
      ],
      "metadata": {
        "id": "53a01NPaDMJC"
      }
    },
    {
      "cell_type": "code",
      "source": [
        "def copy_file(source_filename, destination_filename):\n",
        "  \"\"\"Reads from one file and writes its content to another file.\n",
        "\n",
        "  Args:\n",
        "    source_filename: The name of the source file to read from.\n",
        "    destination_filename: The name of the destination file to write to.\n",
        "  \"\"\"\n",
        "  try:\n",
        "    with open(source_filename, 'r') as source_file, open(destination_filename, 'w') as destination_file:\n",
        "      for line in source_file:\n",
        "        destination_file.write(line)\n",
        "    print(f\"Successfully copied '{source_filename}' to '{destination_filename}'\")\n",
        "  except FileNotFoundError:\n",
        "    print(f\"Error: Source file '{source_filename}' not found.\")\n",
        "  except Exception as e:\n",
        "    print(f\"An error occurred: {e}\")\n",
        "\n",
        "# Create a sample file for testing\n",
        "with open(\"source.txt\", \"w\") as f:\n",
        "  f.write(\"This is the content of the source file.\\n\")\n",
        "  f.write(\"Another line in the source file.\\n\")\n",
        "\n",
        "# Example usage\n",
        "copy_file(\"source.txt\", \"destination.txt\")\n",
        "\n",
        "# verify\n",
        "!cat destination.txt\n"
      ],
      "metadata": {
        "colab": {
          "base_uri": "https://localhost:8080/"
        },
        "id": "YdK0Y8mYDR50",
        "outputId": "0b9518f6-05d0-4460-e1f8-d6046003bcc9"
      },
      "execution_count": 8,
      "outputs": [
        {
          "output_type": "stream",
          "name": "stdout",
          "text": [
            "Successfully copied 'source.txt' to 'destination.txt'\n",
            "This is the content of the source file.\n",
            "Another line in the source file.\n"
          ]
        }
      ]
    },
    {
      "cell_type": "markdown",
      "source": [
        "5. How would you catch and handle division by zero error in Python?"
      ],
      "metadata": {
        "id": "IqbnJU-0DYOe"
      }
    },
    {
      "cell_type": "code",
      "source": [
        "def divide_numbers(numerator, denominator):\n",
        "  \"\"\"Divides two numbers and handles division by zero error.\n",
        "\n",
        "  Args:\n",
        "    numerator: The numerator.\n",
        "    denominator: The denominator.\n",
        "\n",
        "  Returns:\n",
        "    The result of the division, or None if division by zero occurs.\n",
        "  \"\"\"\n",
        "  try:\n",
        "    result = numerator / denominator\n",
        "    return result\n",
        "  except ZeroDivisionError:\n",
        "    print(\"Error: Division by zero!\")\n",
        "    return None\n",
        "  except TypeError:\n",
        "    print(\"Error: Only numbers are valid inputs\")\n",
        "    return None\n",
        "  except Exception as e:\n",
        "      print(f\"An error occurred: {e}\")\n",
        "      return None\n",
        "\n",
        "# Example usage\n",
        "print(divide_numbers(10, 2))  # Output: 5.0\n",
        "print(divide_numbers(10, 0))  # Output: Error: Division by zero! None\n",
        "print(divide_numbers(\"10\", 0)) #Output: Error: Only numbers are valid inputs None\n"
      ],
      "metadata": {
        "colab": {
          "base_uri": "https://localhost:8080/"
        },
        "id": "n4MsKzjFDbz6",
        "outputId": "88de98c0-67f3-4f5b-8ed7-824c8e6ddbe3"
      },
      "execution_count": 9,
      "outputs": [
        {
          "output_type": "stream",
          "name": "stdout",
          "text": [
            "5.0\n",
            "Error: Division by zero!\n",
            "None\n",
            "Error: Only numbers are valid inputs\n",
            "None\n"
          ]
        }
      ]
    },
    {
      "cell_type": "markdown",
      "source": [
        "6. Write a Python program that logs an error message to a log file when a division by zero exception occurs."
      ],
      "metadata": {
        "id": "F7iVSTFBDiz5"
      }
    },
    {
      "cell_type": "code",
      "source": [
        "import logging\n",
        "\n",
        "# Configure logging to write to a file\n",
        "logging.basicConfig(filename='division_error.log', level=logging.ERROR,\n",
        "                    format='%(asctime)s:%(levelname)s:%(message)s')\n",
        "\n",
        "def divide_numbers_with_logging(numerator, denominator):\n",
        "  \"\"\"Divides two numbers and logs a division by zero error.\n",
        "\n",
        "  Args:\n",
        "    numerator: The numerator.\n",
        "    denominator: The denominator.\n",
        "\n",
        "  Returns:\n",
        "    The result of the division, or None if division by zero occurs.\n",
        "  \"\"\"\n",
        "  try:\n",
        "    result = numerator / denominator\n",
        "    return result\n",
        "  except ZeroDivisionError:\n",
        "    logging.error(\"Division by zero occurred!\")\n",
        "    print(\"Error: Division by zero!\")\n",
        "    return None\n",
        "  except TypeError:\n",
        "    logging.error(\"Invalid inputs.\")\n",
        "    print(\"Error: Only numbers are valid inputs\")\n",
        "    return None\n",
        "  except Exception as e:\n",
        "      logging.error(f\"An error occurred: {e}\")\n",
        "      print(f\"An error occurred: {e}\")\n",
        "      return None\n",
        "\n",
        "# Example usage\n",
        "divide_numbers_with_logging(10, 2)\n",
        "divide_numbers_with_logging(10, 0)\n",
        "divide_numbers_with_logging('10',0)\n"
      ],
      "metadata": {
        "colab": {
          "base_uri": "https://localhost:8080/"
        },
        "id": "CtPjPxa-Dm5w",
        "outputId": "3e4641f8-cea0-4c26-8742-4e6c1bbcb17a"
      },
      "execution_count": 10,
      "outputs": [
        {
          "output_type": "stream",
          "name": "stderr",
          "text": [
            "ERROR:root:Division by zero occurred!\n",
            "ERROR:root:Invalid inputs.\n"
          ]
        },
        {
          "output_type": "stream",
          "name": "stdout",
          "text": [
            "Error: Division by zero!\n",
            "Error: Only numbers are valid inputs\n"
          ]
        }
      ]
    },
    {
      "cell_type": "markdown",
      "source": [
        "7. How do you log information at different levels (INFO, ERROR, WARNING) in Python using the logging module?"
      ],
      "metadata": {
        "id": "qWmUn07zDxWi"
      }
    },
    {
      "cell_type": "code",
      "source": [
        "import logging\n",
        "\n",
        "# Configure logging to write to a file and/or console\n",
        "logging.basicConfig(\n",
        "    level=logging.DEBUG,  # Set the minimum level to log. DEBUG will log everything.\n",
        "    format='%(asctime)s - %(levelname)s - %(message)s',\n",
        "    handlers=[\n",
        "        logging.FileHandler(\"app.log\"),  # Log to a file\n",
        "        logging.StreamHandler()           # Log to console\n",
        "    ]\n",
        ")\n",
        "\n",
        "def example_logging():\n",
        "  \"\"\"Demonstrates logging at different levels.\"\"\"\n",
        "  logging.debug(\"This is a debug message.\")  # Most detailed, typically for development\n",
        "  logging.info(\"This is an info message.\")    # General information about the application state\n",
        "  logging.warning(\"This is a warning message.\") # Something unexpected happened, but the app continues\n",
        "  logging.error(\"This is an error message.\")    # Something failed, but the app continues\n",
        "  logging.critical(\"This is a critical message.\") # The app might crash or a major part is not working\n",
        "\n",
        "# Example of logging within a function\n",
        "def divide(x, y):\n",
        "    \"\"\"Divides two numbers and logs relevant information.\"\"\"\n",
        "    logging.info(f\"Attempting to divide {x} by {y}\")\n",
        "    try:\n",
        "        result = x / y\n",
        "        logging.info(f\"Successfully divided {x} by {y}, result: {result}\")\n",
        "        return result\n",
        "    except ZeroDivisionError:\n",
        "        logging.error(f\"Attempted to divide {x} by zero!\")\n",
        "        return None\n",
        "\n",
        "# Example usage\n",
        "example_logging()\n",
        "divide(10,2)\n",
        "divide(10,0)\n"
      ],
      "metadata": {
        "colab": {
          "base_uri": "https://localhost:8080/"
        },
        "id": "fFHFRO1wD1hC",
        "outputId": "5852b057-3d2a-41d2-e90f-694b5c99c120"
      },
      "execution_count": 11,
      "outputs": [
        {
          "output_type": "stream",
          "name": "stderr",
          "text": [
            "WARNING:root:This is a warning message.\n",
            "ERROR:root:This is an error message.\n",
            "CRITICAL:root:This is a critical message.\n",
            "ERROR:root:Attempted to divide 10 by zero!\n"
          ]
        }
      ]
    },
    {
      "cell_type": "markdown",
      "source": [
        "8. Write a program to handle a file opening error using exception handling."
      ],
      "metadata": {
        "id": "orh1LtFsEBAC"
      }
    },
    {
      "cell_type": "code",
      "source": [
        "import logging\n",
        "\n",
        "# Configure logging to write to a file\n",
        "logging.basicConfig(filename='file_error.log', level=logging.ERROR,\n",
        "                    format='%(asctime)s:%(levelname)s:%(message)s')\n",
        "\n",
        "def open_and_process_file(filename):\n",
        "  \"\"\"Opens a file and processes it, handling file opening errors.\n",
        "\n",
        "  Args:\n",
        "    filename: The name of the file to open.\n",
        "  \"\"\"\n",
        "  try:\n",
        "    with open(filename, 'r') as file:\n",
        "      # Process the file here (e.g., read lines, do something with the content)\n",
        "      for line in file:\n",
        "          print(line,end='')\n",
        "      print(f\"Successfully processed '{filename}'\")\n",
        "  except FileNotFoundError:\n",
        "    logging.error(f\"File '{filename}' not found.\")\n",
        "    print(f\"Error: File '{filename}' not found.\")\n",
        "  except PermissionError:\n",
        "    logging.error(f\"Permission denied to open '{filename}'.\")\n",
        "    print(f\"Error: Permission denied to open '{filename}'.\")\n",
        "  except Exception as e:\n",
        "    logging.error(f\"An error occurred while opening '{filename}': {e}\")\n",
        "    print(f\"An error occurred: {e}\")\n",
        "\n",
        "# Example usage with a file that exists\n",
        "with open(\"test.txt\", \"w\") as f:\n",
        "    f.write(\"This is a test file\")\n",
        "open_and_process_file(\"test.txt\")\n",
        "\n",
        "# Example usage with a file that does not exist\n",
        "open_and_process_file(\"nonexistent_file.txt\")\n"
      ],
      "metadata": {
        "colab": {
          "base_uri": "https://localhost:8080/"
        },
        "id": "JOtIM-3MEFVq",
        "outputId": "540ed040-c235-4472-ebd8-aa9d53222704"
      },
      "execution_count": 12,
      "outputs": [
        {
          "output_type": "stream",
          "name": "stderr",
          "text": [
            "ERROR:root:File 'nonexistent_file.txt' not found.\n"
          ]
        },
        {
          "output_type": "stream",
          "name": "stdout",
          "text": [
            "This is a test fileSuccessfully processed 'test.txt'\n",
            "Error: File 'nonexistent_file.txt' not found.\n"
          ]
        }
      ]
    },
    {
      "cell_type": "markdown",
      "source": [
        "9. How can you read a file line by line and store its content in a list in Python?"
      ],
      "metadata": {
        "id": "MXyUyKp5ELPq"
      }
    },
    {
      "cell_type": "code",
      "source": [
        "def read_file_to_list(filename):\n",
        "  \"\"\"Reads a file line by line and stores its content in a list.\n",
        "\n",
        "  Args:\n",
        "    filename: The name of the file to read.\n",
        "\n",
        "  Returns:\n",
        "    A list where each element is a line from the file, or None if the file\n",
        "    does not exist.\n",
        "  \"\"\"\n",
        "  try:\n",
        "    with open(filename, 'r') as file:\n",
        "      lines = file.readlines()\n",
        "      return lines\n",
        "  except FileNotFoundError:\n",
        "    print(f\"Error: File '{filename}' not found.\")\n",
        "    return None\n",
        "  except Exception as e:\n",
        "      print(f\"An error occurred: {e}\")\n",
        "      return None\n",
        "\n",
        "# Example Usage\n",
        "# First, let's make sure the file exists\n",
        "with open(\"my_file.txt\", \"w\") as f:\n",
        "  f.write(\"Line 1\\n\")\n",
        "  f.write(\"Line 2\\n\")\n",
        "  f.write(\"Line 3\\n\")\n",
        "\n",
        "file_content_list = read_file_to_list(\"my_file.txt\")\n",
        "\n",
        "if file_content_list:\n",
        "    print(file_content_list)\n",
        "    for line in file_content_list:\n",
        "      print(line,end=\"\")\n"
      ],
      "metadata": {
        "colab": {
          "base_uri": "https://localhost:8080/"
        },
        "id": "OMyEPqnSEhEs",
        "outputId": "83783f4b-885b-42dc-ef58-688fcd330ddb"
      },
      "execution_count": 16,
      "outputs": [
        {
          "output_type": "stream",
          "name": "stdout",
          "text": [
            "['Line 1\\n', 'Line 2\\n', 'Line 3\\n']\n",
            "Line 1\n",
            "Line 2\n",
            "Line 3\n"
          ]
        }
      ]
    },
    {
      "cell_type": "markdown",
      "source": [
        "10. How can you append data to an existing file in Python?"
      ],
      "metadata": {
        "id": "T_Kx9JuWEp_E"
      }
    },
    {
      "cell_type": "code",
      "source": [
        "# prompt: How can you append data to an existing file in Python?\n",
        "\n",
        "def append_to_file(filename, text):\n",
        "  \"\"\"Appends a string to an existing file.\n",
        "\n",
        "  Args:\n",
        "    filename: The name of the file to append to.\n",
        "    text: The string to append to the file.\n",
        "  \"\"\"\n",
        "  try:\n",
        "    with open(filename, 'a') as file:\n",
        "      file.write(text)\n",
        "    print(f\"Successfully appended to '{filename}'\")\n",
        "  except FileNotFoundError:\n",
        "    print(f\"Error: File '{filename}' not found.\")\n",
        "  except Exception as e:\n",
        "    print(f\"An error occurred: {e}\")\n",
        "\n",
        "# Example usage:\n",
        "# Assuming 'my_file.txt' was created in a previous example\n",
        "append_to_file(\"my_file.txt\", \"\\nThis is an appended line.\")\n",
        "append_to_file(\"my_file.txt\", \"\\nThis is another appended line.\")\n",
        "\n",
        "#verify the contents\n",
        "!cat my_file.txt\n"
      ],
      "metadata": {
        "colab": {
          "base_uri": "https://localhost:8080/"
        },
        "id": "ZyiTet4LEtr4",
        "outputId": "c891e814-a7e8-4d5e-fc67-22df85808558"
      },
      "execution_count": 17,
      "outputs": [
        {
          "output_type": "stream",
          "name": "stdout",
          "text": [
            "Successfully appended to 'my_file.txt'\n",
            "Successfully appended to 'my_file.txt'\n",
            "Line 1\n",
            "Line 2\n",
            "Line 3\n",
            "\n",
            "This is an appended line.\n",
            "This is another appended line."
          ]
        }
      ]
    },
    {
      "cell_type": "markdown",
      "source": [
        "11. Write a Python program that uses a try-except block to handle an error when attempting to access a\n",
        "dictionary key that doesn't exist."
      ],
      "metadata": {
        "id": "GCQc_9HsEx2C"
      }
    },
    {
      "cell_type": "code",
      "source": [
        "import logging\n",
        "\n",
        "# Configure logging to write to a file\n",
        "logging.basicConfig(filename='dictionary_error.log', level=logging.ERROR,\n",
        "                    format='%(asctime)s:%(levelname)s:%(message)s')\n",
        "\n",
        "def access_dictionary_key(my_dict, key):\n",
        "  \"\"\"Accesses a dictionary key and handles KeyError if it doesn't exist.\n",
        "\n",
        "  Args:\n",
        "    my_dict: The dictionary to access.\n",
        "    key: The key to access.\n",
        "  \"\"\"\n",
        "  try:\n",
        "    value = my_dict[key]\n",
        "    print(f\"The value for key '{key}' is: {value}\")\n",
        "    return value\n",
        "  except KeyError:\n",
        "    logging.error(f\"KeyError: Key '{key}' not found in the dictionary.\")\n",
        "    print(f\"Error: Key '{key}' not found in the dictionary.\")\n",
        "    return None\n",
        "  except TypeError:\n",
        "    logging.error(\"TypeError: input must be a dictionary and a key\")\n",
        "    print(f\"Error: TypeError: input must be a dictionary and a key\")\n",
        "  except Exception as e:\n",
        "      logging.error(f\"An error occurred: {e}\")\n",
        "      print(f\"An error occurred: {e}\")\n",
        "      return None\n",
        "\n",
        "# Example Usage\n",
        "my_dictionary = {\"a\": 1, \"b\": 2, \"c\": 3}\n",
        "\n",
        "# Test with a key that exists\n",
        "access_dictionary_key(my_dictionary, \"b\")\n",
        "\n",
        "# Test with a key that doesn't exist\n",
        "access_dictionary_key(my_dictionary, \"d\")\n",
        "\n",
        "# Test with a type error\n",
        "access_dictionary_key(\"test\",1)\n"
      ],
      "metadata": {
        "colab": {
          "base_uri": "https://localhost:8080/",
          "height": 107
        },
        "id": "NWLPktkYE3D-",
        "outputId": "02836648-c2d8-4353-90c4-2cb5b0a929e4"
      },
      "execution_count": 19,
      "outputs": [
        {
          "output_type": "stream",
          "name": "stderr",
          "text": [
            "ERROR:root:KeyError: Key 'd' not found in the dictionary.\n"
          ]
        },
        {
          "output_type": "stream",
          "name": "stdout",
          "text": [
            "The value for key 'b' is: 2\n",
            "Error: Key 'd' not found in the dictionary.\n",
            "The value for key '1' is: e\n"
          ]
        },
        {
          "output_type": "execute_result",
          "data": {
            "text/plain": [
              "'e'"
            ],
            "application/vnd.google.colaboratory.intrinsic+json": {
              "type": "string"
            }
          },
          "metadata": {},
          "execution_count": 19
        }
      ]
    },
    {
      "cell_type": "markdown",
      "source": [
        "12. Write a program that demonstrates using multiple except blocks to handle different types of exceptions."
      ],
      "metadata": {
        "id": "lJIxDS_CE97R"
      }
    },
    {
      "cell_type": "code",
      "source": [
        "import logging\n",
        "\n",
        "# Configure logging to write to a file\n",
        "logging.basicConfig(filename='multiple_exceptions.log', level=logging.ERROR,\n",
        "                    format='%(asctime)s:%(levelname)s:%(message)s')\n",
        "\n",
        "def process_data(data):\n",
        "  \"\"\"\n",
        "  Demonstrates handling multiple types of exceptions.\n",
        "\n",
        "  Args:\n",
        "    data: The input data, which can be a list or a string.\n",
        "  \"\"\"\n",
        "  try:\n",
        "    # Attempt to access an element in a list or string\n",
        "    if isinstance(data, list):\n",
        "      value = data[5]  # May raise IndexError\n",
        "    elif isinstance(data, str):\n",
        "        value = data[5] # May raise IndexError\n",
        "    else:\n",
        "        raise TypeError\n",
        "    print(f\"Accessed value: {value}\")\n",
        "  except IndexError:\n",
        "    logging.error(\"IndexError: Index out of range.\")\n",
        "    print(\"Error: Index out of range.\")\n",
        "  except TypeError:\n",
        "    logging.error(\"TypeError: input must be a list or a string\")\n",
        "    print(\"Error: TypeError: input must be a list or a string\")\n",
        "  except Exception as e:\n",
        "    logging.error(f\"An unexpected error occurred: {e}\")\n",
        "    print(f\"An unexpected error occurred: {e}\")\n",
        "\n",
        "# Example Usage\n",
        "my_list = [1, 2, 3, 4]\n",
        "my_string = \"hello\"\n",
        "process_data(my_list)  # Will raise an IndexError\n",
        "process_data(my_string)\n",
        "process_data(1)\n"
      ],
      "metadata": {
        "colab": {
          "base_uri": "https://localhost:8080/"
        },
        "id": "u9GUWO2eFCYC",
        "outputId": "4011b76b-a674-4166-dfe4-edfeec2695c2"
      },
      "execution_count": 20,
      "outputs": [
        {
          "output_type": "stream",
          "name": "stderr",
          "text": [
            "ERROR:root:IndexError: Index out of range.\n",
            "ERROR:root:IndexError: Index out of range.\n",
            "ERROR:root:TypeError: input must be a list or a string\n"
          ]
        },
        {
          "output_type": "stream",
          "name": "stdout",
          "text": [
            "Error: Index out of range.\n",
            "Error: Index out of range.\n",
            "Error: TypeError: input must be a list or a string\n"
          ]
        }
      ]
    },
    {
      "cell_type": "markdown",
      "source": [
        "13. How would you check if a file exists before attempting to read it in Python?"
      ],
      "metadata": {
        "id": "QmxWtftdFKCG"
      }
    },
    {
      "cell_type": "code",
      "source": [
        "import os\n",
        "import logging\n",
        "\n",
        "# Configure logging to write to a file\n",
        "logging.basicConfig(filename='file_exists_check.log', level=logging.ERROR,\n",
        "                    format='%(asctime)s:%(levelname)s:%(message)s')\n",
        "\n",
        "def read_file_if_exists(filename):\n",
        "  \"\"\"Checks if a file exists before attempting to read it.\n",
        "\n",
        "  Args:\n",
        "    filename: The name of the file to check and read.\n",
        "  \"\"\"\n",
        "  if os.path.exists(filename):\n",
        "    try:\n",
        "      with open(filename, 'r') as file:\n",
        "        for line in file:\n",
        "          print(line, end='')\n",
        "      print(f\"\\nSuccessfully read '{filename}'\")\n",
        "    except Exception as e:\n",
        "        logging.error(f\"An error occurred: {e}\")\n",
        "        print(f\"An error occurred: {e}\")\n",
        "  else:\n",
        "    logging.error(f\"File '{filename}' does not exist.\")\n",
        "    print(f\"Error: File '{filename}' does not exist.\")\n",
        "\n",
        "# Example Usage\n",
        "# Create a test file\n",
        "with open(\"test_file_exists.txt\", \"w\") as f:\n",
        "    f.write(\"This is a test file for existence check.\\n\")\n",
        "\n",
        "read_file_if_exists(\"test_file_exists.txt\")  # This will read the file\n",
        "read_file_if_exists(\"non_existent_file.txt\")  # This will print an error message\n"
      ],
      "metadata": {
        "colab": {
          "base_uri": "https://localhost:8080/"
        },
        "id": "rHnaVQ7pFOVs",
        "outputId": "612ca80c-59c2-4a78-dded-722b4135c3aa"
      },
      "execution_count": 21,
      "outputs": [
        {
          "output_type": "stream",
          "name": "stderr",
          "text": [
            "ERROR:root:File 'non_existent_file.txt' does not exist.\n"
          ]
        },
        {
          "output_type": "stream",
          "name": "stdout",
          "text": [
            "This is a test file for existence check.\n",
            "\n",
            "Successfully read 'test_file_exists.txt'\n",
            "Error: File 'non_existent_file.txt' does not exist.\n"
          ]
        }
      ]
    },
    {
      "cell_type": "markdown",
      "source": [
        "14. Write a program that uses the logging module to log both informational and error messages."
      ],
      "metadata": {
        "id": "yqS5-pEmFTn0"
      }
    },
    {
      "cell_type": "code",
      "source": [
        "import logging\n",
        "\n",
        "# Configure logging to write to a file and console\n",
        "logging.basicConfig(\n",
        "    level=logging.INFO,  # Set the minimum level to log\n",
        "    format='%(asctime)s - %(levelname)s - %(message)s',\n",
        "    handlers=[\n",
        "        logging.FileHandler(\"app.log\"),  # Log to a file\n",
        "        logging.StreamHandler()           # Log to console\n",
        "    ]\n",
        ")\n",
        "\n",
        "def divide_with_logging(x, y):\n",
        "    \"\"\"Divides two numbers and logs the operation.\"\"\"\n",
        "    logging.info(f\"Dividing {x} by {y}\")\n",
        "    try:\n",
        "        result = x / y\n",
        "        logging.info(f\"Result of division: {result}\")\n",
        "        return result\n",
        "    except ZeroDivisionError:\n",
        "        logging.error(f\"Attempted to divide {x} by zero!\")\n",
        "        return None\n",
        "\n",
        "# Example usage\n",
        "divide_with_logging(10, 2)\n",
        "divide_with_logging(5, 0)\n"
      ],
      "metadata": {
        "colab": {
          "base_uri": "https://localhost:8080/"
        },
        "id": "Q6FN7rcrFWpg",
        "outputId": "385cc264-c71e-4c63-cc95-827da618b85c"
      },
      "execution_count": 22,
      "outputs": [
        {
          "output_type": "stream",
          "name": "stderr",
          "text": [
            "ERROR:root:Attempted to divide 5 by zero!\n"
          ]
        }
      ]
    },
    {
      "cell_type": "markdown",
      "source": [
        "15. Write a Python program that prints the content of a file and handles the case when the file is empty?"
      ],
      "metadata": {
        "id": "IhsBQBByFbwq"
      }
    },
    {
      "cell_type": "code",
      "source": [
        "import os\n",
        "\n",
        "def print_file_content(filename):\n",
        "  \"\"\"Prints the content of a file and handles empty file case.\n",
        "\n",
        "  Args:\n",
        "    filename: The name of the file to read.\n",
        "  \"\"\"\n",
        "  if not os.path.exists(filename):\n",
        "    print(f\"Error: File '{filename}' not found.\")\n",
        "    return\n",
        "\n",
        "  try:\n",
        "    with open(filename, 'r') as file:\n",
        "      content = file.read()\n",
        "      if not content:\n",
        "        print(f\"File '{filename}' is empty.\")\n",
        "      else:\n",
        "        print(content)\n",
        "  except Exception as e:\n",
        "    print(f\"An error occurred: {e}\")\n",
        "\n",
        "# Example usage with an empty file\n",
        "with open(\"empty_file.txt\", \"w\") as f:\n",
        "    pass  # Creates an empty file\n",
        "\n",
        "print_file_content(\"empty_file.txt\")\n",
        "\n",
        "# Example usage with a file that has content\n",
        "with open(\"non_empty_file.txt\", \"w\") as f:\n",
        "    f.write(\"This file is not empty.\\n\")\n",
        "    f.write(\"It has multiple lines.\\n\")\n",
        "\n",
        "print_file_content(\"non_empty_file.txt\")\n",
        "\n",
        "# Example of a file that doesn't exists\n",
        "print_file_content(\"file_that_does_not_exists.txt\")\n"
      ],
      "metadata": {
        "colab": {
          "base_uri": "https://localhost:8080/"
        },
        "id": "j808MPqwFfdT",
        "outputId": "033a48b2-eb53-4688-f0c2-aef67a90b114"
      },
      "execution_count": 23,
      "outputs": [
        {
          "output_type": "stream",
          "name": "stdout",
          "text": [
            "File 'empty_file.txt' is empty.\n",
            "This file is not empty.\n",
            "It has multiple lines.\n",
            "\n",
            "Error: File 'file_that_does_not_exists.txt' not found.\n"
          ]
        }
      ]
    },
    {
      "cell_type": "markdown",
      "source": [
        "16. Demonstrate how to use memory profiling to check the memory usage of a small program?"
      ],
      "metadata": {
        "id": "RkESi7NmFrRS"
      }
    },
    {
      "cell_type": "code",
      "source": [
        "!pip install memory_profiler\n",
        "\n",
        "from memory_profiler import profile\n",
        "\n",
        "@profile\n",
        "def my_function():\n",
        "  \"\"\"\n",
        "  This is a sample function to demonstrate memory profiling.\n",
        "  \"\"\"\n",
        "  a = [1] * (10 ** 6)\n",
        "  b = [2] * (2 * 10 ** 7)\n",
        "\n"
      ],
      "metadata": {
        "colab": {
          "base_uri": "https://localhost:8080/"
        },
        "id": "iCcaXAodFvMC",
        "outputId": "66296fe8-f3ab-4e7d-ea52-1a0e15c106b5"
      },
      "execution_count": 27,
      "outputs": [
        {
          "output_type": "stream",
          "name": "stdout",
          "text": [
            "Requirement already satisfied: memory_profiler in /usr/local/lib/python3.11/dist-packages (0.61.0)\n",
            "Requirement already satisfied: psutil in /usr/local/lib/python3.11/dist-packages (from memory_profiler) (5.9.5)\n"
          ]
        }
      ]
    },
    {
      "cell_type": "markdown",
      "source": [
        "17. Write a Python program to create and write a list of numbers to a file, one number per line."
      ],
      "metadata": {
        "id": "lgQdwjk2F7mA"
      }
    },
    {
      "cell_type": "code",
      "source": [
        "def write_numbers_to_file(filename, numbers):\n",
        "  \"\"\"Writes a list of numbers to a file, one number per line.\n",
        "\n",
        "  Args:\n",
        "    filename: The name of the file to write to.\n",
        "    numbers: A list of numbers to write to the file.\n",
        "  \"\"\"\n",
        "  try:\n",
        "    with open(filename, 'w') as file:\n",
        "      for number in numbers:\n",
        "        file.write(str(number) + '\\n')\n",
        "    print(f\"Successfully wrote numbers to '{filename}'\")\n",
        "  except Exception as e:\n",
        "    print(f\"An error occurred: {e}\")\n",
        "\n",
        "# Example usage:\n",
        "numbers = [10, 25, 30, 45, 50]\n",
        "write_numbers_to_file(\"numbers.txt\", numbers)\n"
      ],
      "metadata": {
        "colab": {
          "base_uri": "https://localhost:8080/"
        },
        "id": "qe5QcarMF_Uu",
        "outputId": "1cc55fcc-4866-450f-c25e-523c245cc23f"
      },
      "execution_count": 25,
      "outputs": [
        {
          "output_type": "stream",
          "name": "stdout",
          "text": [
            "Successfully wrote numbers to 'numbers.txt'\n"
          ]
        }
      ]
    },
    {
      "cell_type": "markdown",
      "source": [
        "18. How would you implement a basic logging setup that logs to a file with rotation after 1MB?"
      ],
      "metadata": {
        "id": "Q3ofktQzGU4e"
      }
    },
    {
      "cell_type": "code",
      "source": [
        "import logging\n",
        "import logging.handlers\n",
        "import os\n",
        "from memory_profiler import profile\n",
        "\n",
        "# 18. How would you implement a basic logging setup that logs to a file with rotation after 1MB?\n",
        "def setup_rotating_log(log_file, max_bytes=1024*1024, backup_count=5):\n",
        "    \"\"\"Sets up a rotating log file.\n",
        "\n",
        "    Args:\n",
        "        log_file (str): The path to the log file.\n",
        "        max_bytes (int): The maximum size of each log file before rotation (in bytes). Defaults to 1MB.\n",
        "        backup_count (int): The number of backup log files to keep. Defaults to 5.\n",
        "    \"\"\"\n",
        "    logger = logging.getLogger()\n",
        "    logger.setLevel(logging.INFO)  # Set the minimum level to log\n",
        "\n",
        "    # Create the directory if it doesn't exist\n",
        "    log_dir = os.path.dirname(log_file)\n",
        "    if log_dir and not os.path.exists(log_dir):\n",
        "        os.makedirs(log_dir)\n",
        "\n",
        "    # Create a rotating file handler\n",
        "    rotating_handler = logging.handlers.RotatingFileHandler(\n",
        "        log_file,\n",
        "        maxBytes=max_bytes,\n",
        "        backupCount=backup_count\n",
        "    )\n",
        "\n",
        "    # Define the log format\n",
        "    formatter = logging.Formatter('%(asctime)s - %(levelname)s - %(message)s')\n",
        "    rotating_handler.setFormatter(formatter)\n",
        "\n",
        "    # Add the handler to the logger\n",
        "    logger.addHandler(rotating_handler)\n",
        "    return logger\n",
        "\n",
        "# Example usage:\n",
        "log_file = \"rotating_app.log\"\n",
        "logger = setup_rotating_log(log_file)\n",
        "\n",
        "# Example of how to use the logger\n",
        "logger.info(\"This is an informational message.\")\n",
        "logger.warning(\"This is a warning message.\")\n",
        "logger.error(\"This is an error message.\")\n"
      ],
      "metadata": {
        "colab": {
          "base_uri": "https://localhost:8080/"
        },
        "id": "AibB5J-tGYFV",
        "outputId": "bf3fb3d2-8313-4670-b4d7-59a252f57ae2"
      },
      "execution_count": 29,
      "outputs": [
        {
          "output_type": "stream",
          "name": "stderr",
          "text": [
            "INFO:root:This is an informational message.\n",
            "WARNING:root:This is a warning message.\n",
            "ERROR:root:This is an error message.\n"
          ]
        }
      ]
    },
    {
      "cell_type": "markdown",
      "source": [
        "19. Write a program that handles both IndexError and KeyError using a try-except block."
      ],
      "metadata": {
        "id": "q7VE1B06Gd8p"
      }
    },
    {
      "cell_type": "code",
      "source": [
        "def handle_index_key_errors(data, index, key):\n",
        "  \"\"\"\n",
        "  Demonstrates handling both IndexError and KeyError.\n",
        "\n",
        "  Args:\n",
        "    data: Can be a list or a dictionary.\n",
        "    index: The index to access if data is a list.\n",
        "    key: The key to access if data is a dictionary.\n",
        "  \"\"\"\n",
        "  try:\n",
        "    if isinstance(data, list):\n",
        "      value = data[index]\n",
        "      print(f\"Value at index {index}: {value}\")\n",
        "    elif isinstance(data, dict):\n",
        "      value = data[key]\n",
        "      print(f\"Value for key '{key}': {value}\")\n",
        "    else:\n",
        "        raise TypeError\n",
        "  except IndexError:\n",
        "    print(f\"Error: Index {index} is out of range for the list.\")\n",
        "  except KeyError:\n",
        "    print(f\"Error: Key '{key}' not found in the dictionary.\")\n",
        "  except TypeError:\n",
        "      print(\"Error: input must be a list or a dictionary\")\n",
        "  except Exception as e:\n",
        "    print(f\"An unexpected error occurred: {e}\")\n",
        "\n",
        "\n",
        "# Example Usage\n",
        "my_list = [10, 20, 30]\n",
        "my_dict = {\"a\": 1, \"b\": 2, \"c\": 3}\n",
        "\n",
        "# Test cases\n",
        "handle_index_key_errors(my_list, 1, \"a\")  # Valid list index\n",
        "handle_index_key_errors(my_list, 5, \"a\")  # IndexError\n",
        "handle_index_key_errors(my_dict, 1, \"b\")  # Valid dictionary key\n",
        "handle_index_key_errors(my_dict, 1, \"d\")  # KeyError\n",
        "handle_index_key_errors(\"test\", 1, \"d\") # TypeError\n"
      ],
      "metadata": {
        "colab": {
          "base_uri": "https://localhost:8080/"
        },
        "id": "vIg0xVsFGhXN",
        "outputId": "17d81ee1-a046-448d-dda5-1d758f09ebd2"
      },
      "execution_count": 30,
      "outputs": [
        {
          "output_type": "stream",
          "name": "stdout",
          "text": [
            "Value at index 1: 20\n",
            "Error: Index 5 is out of range for the list.\n",
            "Value for key 'b': 2\n",
            "Error: Key 'd' not found in the dictionary.\n",
            "Error: input must be a list or a dictionary\n"
          ]
        }
      ]
    },
    {
      "cell_type": "markdown",
      "source": [
        "20. How would you open a file and read its contents using a context manager in Python?"
      ],
      "metadata": {
        "id": "cxf517LvGmm8"
      }
    },
    {
      "cell_type": "code",
      "source": [
        "def read_file_with_context_manager(filename):\n",
        "  \"\"\"Opens a file and reads its contents using a context manager.\n",
        "\n",
        "  e file as a string, or None if the file does not exist or an error occurs.\n",
        "  \"\"\"\n",
        "  try:\n",
        "    with open(filename, 'r') as file:\n",
        "      content = file.read()\n",
        "      return content\n",
        "  except FileNotFoundError:\n",
        "    print(f\"Error: File '{filename}' not found.\")\n",
        "    return None\n",
        "  except Exception as e:\n",
        "    print(f\"An error occurred: {e}\")\n",
        "\n"
      ],
      "metadata": {
        "id": "MWyWOIFtGp15"
      },
      "execution_count": 34,
      "outputs": []
    },
    {
      "cell_type": "markdown",
      "source": [
        "21. Write a Python program that reads a file and prints the number of occurrences of a specific word."
      ],
      "metadata": {
        "id": "0XTcVDfGG4dG"
      }
    },
    {
      "cell_type": "code",
      "source": [
        "import re\n",
        "\n",
        "def count_word_occurrences(filename, word):\n",
        "  \"\"\"Reads a file and counts the number of occurrences of a specific word.\n",
        "\n",
        "  Args:\n",
        "    filename: The name of the file to read.\n",
        "    word: The word to count occurrences of.\n",
        "\n",
        "  Returns:\n",
        "    The number of times the word appears in the file, or None if the file\n",
        "    does not exist.\n",
        "  \"\"\"\n",
        "  try:\n",
        "    with open(filename, 'r') as file:\n",
        "      content = file.read()\n",
        "      # Use regular expression to find all occurrences of the word, ignoring case\n",
        "      occurrences = len(re.findall(r'\\b' + re.escape(word) + r'\\b', content, re.IGNORECASE))\n",
        "      return occurrences\n",
        "  except FileNotFoundError:\n",
        "    print(f\"Error: File '{filename}' not found.\")\n",
        "    return None\n",
        "  except Exception as e:\n",
        "      print(f\"An error occurred: {e}\")\n",
        "      return None\n",
        "\n",
        "# Example usage:\n",
        "# Create a dummy file for testing\n",
        "with open(\"sample.txt\", \"w\") as f:\n",
        "    f.write(\"This is a sample file. Sample text. sample\\n\")\n",
        "    f.write(\"This line contains sample again.\\n\")\n",
        "    f.write(\"This file is for sample usage.\")\n",
        "\n",
        "word_to_count = \"sample\"\n",
        "count = count_word_occurrences(\"sample.txt\", word_to_count)\n",
        "\n",
        "if count is not None:\n",
        "  print(f\"The word '{word_to_count}' appears {count} times in the file.\")\n",
        "\n"
      ],
      "metadata": {
        "colab": {
          "base_uri": "https://localhost:8080/"
        },
        "id": "leR5PHe2G7r5",
        "outputId": "84fd1f4d-f0c2-4a66-8503-3d4fab6f4900"
      },
      "execution_count": 35,
      "outputs": [
        {
          "output_type": "stream",
          "name": "stdout",
          "text": [
            "The word 'sample' appears 5 times in the file.\n"
          ]
        }
      ]
    },
    {
      "cell_type": "markdown",
      "source": [
        "22. How can you check if a file is empty before attempting to read its contents?"
      ],
      "metadata": {
        "id": "HBYwF7BEHBOc"
      }
    },
    {
      "cell_type": "code",
      "source": [
        "import os\n",
        "\n",
        "def is_file_empty(filename):\n",
        "  \"\"\"Checks if a file is empty.\n",
        "\n",
        "  Args:\n",
        "    filename: The name of the file to check.\n",
        "\n",
        "  Returns:\n",
        "    True if the file is empty, False otherwise. Returns False if the file does not exist.\n",
        "  \"\"\"\n",
        "  if not os.path.exists(filename):\n",
        "      print(f\"Error: File '{filename}' does not exist.\")\n",
        "      return False\n",
        "  return os.stat(filename).st_size == 0\n",
        "\n",
        "# Example usage:\n",
        "# Create an empty file\n",
        "with open(\"empty_file.txt\", \"w\") as f:\n",
        "    pass\n",
        "\n",
        "# Create a non-empty file\n",
        "with open(\"non_empty_file.txt\", \"w\") as f:\n",
        "    f.write(\"This file is not empty.\\n\")\n",
        "\n",
        "# Test the function\n",
        "print(f\"Is 'empty_file.txt' empty? {is_file_empty('empty_file.txt')}\")\n",
        "print(f\"Is 'non_empty_file.txt' empty? {is_file_empty('non_empty_file.txt')}\")\n",
        "print(f\"Is 'non_existent_file.txt' empty? {is_file_empty('non_existent_file.txt')}\")\n"
      ],
      "metadata": {
        "colab": {
          "base_uri": "https://localhost:8080/"
        },
        "id": "q_qbryD1HFX9",
        "outputId": "1b52211e-25b0-4bbe-e150-347d8d0df84b"
      },
      "execution_count": 36,
      "outputs": [
        {
          "output_type": "stream",
          "name": "stdout",
          "text": [
            "Is 'empty_file.txt' empty? True\n",
            "Is 'non_empty_file.txt' empty? False\n",
            "Error: File 'non_existent_file.txt' does not exist.\n",
            "Is 'non_existent_file.txt' empty? False\n"
          ]
        }
      ]
    },
    {
      "cell_type": "markdown",
      "source": [
        "23. Write a Python program that writes to a log file when an error occurs during file handling."
      ],
      "metadata": {
        "id": "8H4iYUr_HLkg"
      }
    },
    {
      "cell_type": "code",
      "source": [
        "import logging\n",
        "import os\n",
        "\n",
        "# Configure logging to write to a file\n",
        "logging.basicConfig(filename='file_error.log', level=logging.ERROR,\n",
        "                    format='%(asctime)s:%(levelname)s:%(message)s')\n",
        "\n",
        "def open_and_process_file(filename):\n",
        "  \"\"\"Opens a file and processes it, handling file opening errors.\n",
        "\n",
        "  Args:\n",
        "    filename: The name of the file to open.\n",
        "  \"\"\"\n",
        "  try:\n",
        "    with open(filename, 'r') as file:\n",
        "      # Process the file here (e.g., read lines, do something with the content)\n",
        "      for line in file:\n",
        "          print(line,end='')\n",
        "      print(f\"Successfully processed '{filename}'\")\n",
        "  except FileNotFoundError:\n",
        "    logging.error(f\"File '{filename}' not found.\")\n",
        "    print(f\"Error: File '{filename}' not found.\")\n",
        "  except PermissionError:\n",
        "    logging.error(f\"Permission denied to open '{filename}'.\")\n",
        "    print(f\"Error: Permission denied to open '{filename}'.\")\n",
        "  except Exception as e:\n",
        "    logging.error(f\"An error occurred while opening '{filename}': {e}\")\n",
        "    print(f\"An error occurred: {e}\")\n",
        "\n",
        "# Example usage with a file that exists\n",
        "with open(\"test.txt\", \"w\") as f:\n",
        "    f.write(\"This is a test file\")\n",
        "open_and_process_file(\"test.txt\")\n",
        "\n",
        "# Example usage with a file that does not exist\n",
        "open_and_process_file(\"nonexistent_file.txt\")\n"
      ],
      "metadata": {
        "colab": {
          "base_uri": "https://localhost:8080/"
        },
        "id": "zOCGtv8EHPst",
        "outputId": "16c98875-0e9f-411e-8d33-bda1064ea738"
      },
      "execution_count": 37,
      "outputs": [
        {
          "output_type": "stream",
          "name": "stderr",
          "text": [
            "ERROR:root:File 'nonexistent_file.txt' not found.\n"
          ]
        },
        {
          "output_type": "stream",
          "name": "stdout",
          "text": [
            "This is a test fileSuccessfully processed 'test.txt'\n",
            "Error: File 'nonexistent_file.txt' not found.\n"
          ]
        }
      ]
    }
  ]
}